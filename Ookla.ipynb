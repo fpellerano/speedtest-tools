{
 "cells": [
  {
   "cell_type": "markdown",
   "id": "bc1e3b08",
   "metadata": {},
   "source": [
    "# Ookla\n",
    "\n",
    "## Exploratory Data Analysis\n"
   ]
  },
  {
   "cell_type": "code",
   "execution_count": 1,
   "id": "722b3e26",
   "metadata": {},
   "outputs": [
    {
     "name": "stdout",
     "output_type": "stream",
     "text": [
      "Requirement already satisfied: psycopg2 in c:\\users\\u189197\\appdata\\roaming\\python\\python39\\site-packages (2.9.3)\n",
      "Note: you may need to restart the kernel to use updated packages.\n"
     ]
    }
   ],
   "source": [
    "pip install psycopg2"
   ]
  },
  {
   "cell_type": "code",
   "execution_count": 2,
   "id": "8e3bd481",
   "metadata": {},
   "outputs": [],
   "source": [
    "import os\n",
    "import matplotlib.pyplot as plt\n",
    "import pandas as pd\n",
    "from datetime import datetime, timedelta\n",
    "import psycopg2 \n",
    "from pandas import DataFrame as df"
   ]
  },
  {
   "cell_type": "markdown",
   "id": "ed002d85",
   "metadata": {},
   "source": [
    "### Connection and Baseline"
   ]
  },
  {
   "cell_type": "code",
   "execution_count": 3,
   "id": "13bffd9b",
   "metadata": {},
   "outputs": [],
   "source": [
    "def get_db_connection(query, columns):\n",
    "\n",
    "    try:\n",
    "        # Connect to an existing database\n",
    "        connection = psycopg2.connect(user=\"user\",\n",
    "                                      password=\"password\",\n",
    "                                      host=\"host\",\n",
    "                                      port=\"port\",\n",
    "                                      database=\"database\")\n",
    "\n",
    "        # Create a cursor to perform database operations\n",
    "        cur = connection.cursor()\n",
    "\n",
    "        # Executing a SQL query\n",
    "        cur.execute(query)\n",
    "        \n",
    "        # Fetch result\n",
    "        row = cur.fetchone()\n",
    "        \n",
    "        count=0\n",
    "        while row is not None:\n",
    "            row = cur.fetchone()\n",
    "            if row is None:\n",
    "                break\n",
    "            record.append(row)\n",
    "            count +=1\n",
    "        result = df(record, columns=columns)      \n",
    "        print('Success!')\n",
    "        \n",
    "    except (Exception) as error:\n",
    "        print(\"Error while connecting to PostgreSQL\", error)\n",
    "    finally:\n",
    "        if (connection):\n",
    "            cur.close()\n",
    "            connection.close()\n",
    "            print(\"PostgreSQL connection is closed\")\n"
   ]
  },
  {
   "cell_type": "markdown",
   "id": "d94726e2",
   "metadata": {},
   "source": [
    "### Análisis Features"
   ]
  },
  {
   "cell_type": "markdown",
   "id": "52607043",
   "metadata": {},
   "source": [
    "#### Datasets"
   ]
  },
  {
   "cell_type": "markdown",
   "id": "b951c893",
   "metadata": {},
   "source": [
    "\"SELECT COUNT(*) FROM android_bg_v2;\" ### 95 Millones\n",
    "\n",
    "\"SELECT COUNT(*) FROM view_android_bg_v2_claro;\" ### 11 Millones\n",
    "\n",
    "\"SELECT COUNT(*) FROM view_android_bg_v2_movistar;\" ### 10 Millones\n",
    "\n",
    "\"SELECT COUNT(*) FROM view_android_bg_v2_personal;\" ### 15 Millones"
   ]
  },
  {
   "cell_type": "markdown",
   "id": "37c05c51",
   "metadata": {},
   "source": [
    "#### Network_operator_name"
   ]
  },
  {
   "cell_type": "code",
   "execution_count": 4,
   "id": "ab5d2408",
   "metadata": {},
   "outputs": [
    {
     "name": "stdout",
     "output_type": "stream",
     "text": [
      "Success!\n",
      "PostgreSQL connection is closed\n"
     ]
    }
   ],
   "source": [
    "query=''\n",
    "result =pd.DataFrame()\n",
    "record=[]\n",
    "columns =['Network_operator_name', 'Ocurrencias'] \n",
    "query_1 = \"SELECT DISTINCT(network_operator_name), COUNT(report_id) AS Ocurrencias FROM android_bg_v2 GROUP BY Network_operator_name Order by Ocurrencias desc;\"\n",
    "conn = get_db_connection(query_1, columns)"
   ]
  },
  {
   "cell_type": "code",
   "execution_count": 5,
   "id": "c8bbbb33",
   "metadata": {},
   "outputs": [
    {
     "name": "stdout",
     "output_type": "stream",
     "text": [
      "    Network_operator_name  Ocurrencias\n",
      "0                Personal     15384345\n",
      "1                   Claro     11512892\n",
      "2                Movistar     10525520\n",
      "3                  Tuenti         4116\n",
      "4                    Vivo         4028\n",
      "..                    ...          ...\n",
      "128               Telstra            1\n",
      "129                 touch            1\n",
      "130            TrueMove H            1\n",
      "131                  Ucom            1\n",
      "132              Viva-MTS            1\n",
      "\n",
      "[133 rows x 2 columns]\n"
     ]
    }
   ],
   "source": [
    "query_1_response = pd.DataFrame(record, columns=['Network_operator_name', 'Ocurrencias'])\n",
    "print(query_1_response)"
   ]
  },
  {
   "cell_type": "markdown",
   "id": "d9fb1fa1",
   "metadata": {},
   "source": [
    "#### Provinces"
   ]
  },
  {
   "cell_type": "code",
   "execution_count": 6,
   "id": "ac34ffdc",
   "metadata": {},
   "outputs": [
    {
     "name": "stdout",
     "output_type": "stream",
     "text": [
      "Success!\n",
      "PostgreSQL connection is closed\n"
     ]
    }
   ],
   "source": [
    "query=''\n",
    "result =pd.DataFrame()\n",
    "record=[]\n",
    "columns =['Provincia', 'Ocurrencias'] \n",
    "query_2 = \"SELECT DISTINCT(region), COUNT(report_id) AS Ocurrencias FROM android_bg_v2 GROUP BY region Order by Ocurrencias desc;\"\n",
    "conn = get_db_connection(query_2, columns)"
   ]
  },
  {
   "cell_type": "code",
   "execution_count": 7,
   "id": "e8718044",
   "metadata": {},
   "outputs": [
    {
     "name": "stdout",
     "output_type": "stream",
     "text": [
      "                          Provincia  Ocurrencias\n",
      "0   Autonomous City of Buenos Aires      9283456\n",
      "1                           Cordoba      8233845\n",
      "2                  Mendoza Province      5952538\n",
      "3                 Santa Fe Province      5800875\n",
      "4                           Tucumán      2903214\n",
      "5                        Entre Rios      2025613\n",
      "6                 Misiones Province      2004972\n",
      "7                    Salta Province      1870986\n",
      "8                 San Juan Province      1716653\n",
      "9                              None      1633440\n",
      "10                   Chaco Province      1614253\n",
      "11                          Neuquen      1490664\n",
      "12                San Luis Province      1489964\n",
      "13                        Río Negro      1355504\n",
      "14              Corrientes Province      1338710\n",
      "15                  Chubut Province      1303221\n",
      "16                            Jujuy      1162116\n",
      "17              Santa Cruz Province       914110\n",
      "18     Santiago del Estero Province       907055\n",
      "19               Catamarca Province       552042\n",
      "20                 Formosa Province       495823\n",
      "21                La Pampa Province       493939\n",
      "22                La Rioja Province       473872\n",
      "23        Tierra del Fuego Province       286138\n",
      "24                Potosi Department           57\n"
     ]
    }
   ],
   "source": [
    "query_2_response = pd.DataFrame(record, columns=['Provincia', 'Ocurrencias'])\n",
    "print(query_2_response)"
   ]
  },
  {
   "cell_type": "markdown",
   "id": "112ca780",
   "metadata": {},
   "source": [
    "### Occurrences per province"
   ]
  },
  {
   "cell_type": "code",
   "execution_count": 8,
   "id": "76e141cd",
   "metadata": {},
   "outputs": [
    {
     "name": "stdout",
     "output_type": "stream",
     "text": [
      "Success!\n",
      "PostgreSQL connection is closed\n"
     ]
    }
   ],
   "source": [
    "query=''\n",
    "result =pd.DataFrame()\n",
    "record=[]\n",
    "columns =['Earfcn','Ocurrencias', 'network_operator_name','Provincia' ] \n",
    "query_3 = \"SELECT DISTINCT(earfcn), COUNT(report_id),network_operator_name, region FROM android_bg_v2 WHERE (earfcn is not null AND cell_bandwidths is not null) GROUP BY earfcn,network_operator_name, region;\"\n",
    "conn = get_db_connection(query_3, columns)"
   ]
  },
  {
   "cell_type": "code",
   "execution_count": 9,
   "id": "91f5d172",
   "metadata": {
    "scrolled": true
   },
   "outputs": [
    {
     "name": "stdout",
     "output_type": "stream",
     "text": [
      "    Earfcn  Ocurrencias network_operator_name                        Provincia\n",
      "95     800        86702                 Claro  Autonomous City of Buenos Aires\n",
      "118    850           34                 Claro  Autonomous City of Buenos Aires\n",
      "167    950            1                 Claro  Autonomous City of Buenos Aires\n",
      "225   1100            2                 Claro  Autonomous City of Buenos Aires\n",
      "413   2100       109201                 Claro  Autonomous City of Buenos Aires\n",
      "634   2975        14972                 Claro  Autonomous City of Buenos Aires\n",
      "742   9260            7                 Claro  Autonomous City of Buenos Aires\n",
      "813   9360            4                 Claro  Autonomous City of Buenos Aires\n",
      "955   9485        50081                 Claro  Autonomous City of Buenos Aires\n",
      "966   9510            8                 Claro  Autonomous City of Buenos Aires\n"
     ]
    }
   ],
   "source": [
    "query_3_response = pd.DataFrame(record, columns=['Earfcn','Ocurrencias', 'network_operator_name','Provincia'])\n",
    "query_3_response = query_3_response[query_3_response.network_operator_name.eq('Claro')] \n",
    "query_3_response = query_3_response[query_3_response.Provincia.eq('Autonomous City of Buenos Aires')]\n",
    "print(query_3_response)"
   ]
  },
  {
   "cell_type": "markdown",
   "id": "165d496b",
   "metadata": {},
   "source": [
    "#### Occurrences per province (part_2)"
   ]
  },
  {
   "cell_type": "code",
   "execution_count": null,
   "id": "7fe952bd",
   "metadata": {},
   "outputs": [],
   "source": []
  },
  {
   "cell_type": "markdown",
   "id": "af63f3f8",
   "metadata": {},
   "source": [
    "#### Earfcn per operator:"
   ]
  },
  {
   "cell_type": "code",
   "execution_count": null,
   "id": "46850442",
   "metadata": {},
   "outputs": [],
   "source": []
  }
 ],
 "metadata": {
  "kernelspec": {
   "display_name": "Python 3 (ipykernel)",
   "language": "python",
   "name": "python3"
  },
  "language_info": {
   "codemirror_mode": {
    "name": "ipython",
    "version": 3
   },
   "file_extension": ".py",
   "mimetype": "text/x-python",
   "name": "python",
   "nbconvert_exporter": "python",
   "pygments_lexer": "ipython3",
   "version": "3.9.13"
  }
 },
 "nbformat": 4,
 "nbformat_minor": 5
}
